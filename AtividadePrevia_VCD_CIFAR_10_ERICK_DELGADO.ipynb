{
  "nbformat": 4,
  "nbformat_minor": 0,
  "metadata": {
    "colab": {
      "name": "AtividadePrevia_VCD_CIFAR_10-ERICK_DELGADO.ipynb",
      "version": "0.3.2",
      "provenance": [],
      "collapsed_sections": [],
      "include_colab_link": true
    },
    "kernelspec": {
      "name": "python3",
      "display_name": "Python 3"
    },
    "accelerator": "GPU"
  },
  "cells": [
    {
      "cell_type": "markdown",
      "metadata": {
        "id": "view-in-github",
        "colab_type": "text"
      },
      "source": [
        "<a href=\"https://colab.research.google.com/github/edr1/ProgrammingAssignment2/blob/master/AtividadePrevia_VCD_CIFAR_10_ERICK_DELGADO.ipynb\" target=\"_parent\"><img src=\"https://colab.research.google.com/assets/colab-badge.svg\" alt=\"Open In Colab\"/></a>"
      ]
    },
    {
      "metadata": {
        "id": "vrY7hyVy3g6e",
        "colab_type": "code",
        "outputId": "fc7deb3b-64c4-42cc-fd45-415cfc2d09bf",
        "colab": {
          "base_uri": "https://localhost:8080/",
          "height": 34
        }
      },
      "cell_type": "code",
      "source": [
        "from __future__ import print_function\n",
        "from PIL import Image\n",
        "import requests\n",
        "from io import BytesIO\n",
        "import numpy as np\n",
        "from keras.callbacks import EarlyStopping\n",
        "from keras.datasets import cifar10\n",
        "from keras.models import Sequential\n",
        "from keras.layers.core import Dense, Dropout, Flatten\n",
        "from keras.layers.convolutional import Conv2D\n",
        "from keras.optimizers import Adam\n",
        "from keras.layers.pooling import MaxPooling2D\n",
        "from keras.utils import to_categorical"
      ],
      "execution_count": 2,
      "outputs": [
        {
          "output_type": "stream",
          "text": [
            "Using TensorFlow backend.\n"
          ],
          "name": "stderr"
        }
      ]
    },
    {
      "metadata": {
        "id": "MSsxLLUF4h2V",
        "colab_type": "code",
        "outputId": "60830246-3b96-4435-fde3-fd5b220f4a13",
        "colab": {
          "base_uri": "https://localhost:8080/",
          "height": 138
        }
      },
      "cell_type": "code",
      "source": [
        "np.random.seed(1000)\n",
        "(X_train, Y_train), (X_test, Y_test) = cifar10.load_data()\n",
        "\n",
        "# Create the model and add layers: \n",
        "#- Uma camada convolucional;\n",
        "#- Uma camada de max pooling;\n",
        "#- Uma camada convolucional;\n",
        "#- Uma camada de max pooling;\n",
        "#- Uma camada de dropout;\n",
        "#- Transformamos os mapas de características em um único vetor;\n",
        "#- Uma camada totalmente conectada;\n",
        "#- Uma camada de dropout;\n",
        "#- Uma camada totalmente conectada.\n",
        "model = Sequential()\n",
        "\n",
        "model.add(Conv2D(32, kernel_size=(3, 3), activation='relu', input_shape=(32, 32, 3)))\n",
        "model.add(MaxPooling2D(pool_size=(2, 2)))\n",
        "model.add(Conv2D(64, kernel_size=(3, 3), activation='relu'))\n",
        "model.add(MaxPooling2D(pool_size=(2, 2)))\n",
        "model.add(Dropout(0.25))\n",
        "\n",
        "model.add(Flatten())\n",
        "model.add(Dense(1024, activation='relu'))\n",
        "model.add(Dropout(0.5))\n",
        "model.add(Dense(10, activation='softmax'))\n"
      ],
      "execution_count": 3,
      "outputs": [
        {
          "output_type": "stream",
          "text": [
            "WARNING:tensorflow:From /usr/local/lib/python3.6/dist-packages/tensorflow/python/framework/op_def_library.py:263: colocate_with (from tensorflow.python.framework.ops) is deprecated and will be removed in a future version.\n",
            "Instructions for updating:\n",
            "Colocations handled automatically by placer.\n",
            "WARNING:tensorflow:From /usr/local/lib/python3.6/dist-packages/keras/backend/tensorflow_backend.py:3445: calling dropout (from tensorflow.python.ops.nn_ops) with keep_prob is deprecated and will be removed in a future version.\n",
            "Instructions for updating:\n",
            "Please use `rate` instead of `keep_prob`. Rate should be set to `rate = 1 - keep_prob`.\n"
          ],
          "name": "stdout"
        }
      ]
    },
    {
      "metadata": {
        "id": "FO2Yz6M06bO0",
        "colab_type": "code",
        "outputId": "1c0f70b7-709a-4275-a571-183939d3c91c",
        "colab": {
          "base_uri": "https://localhost:8080/",
          "height": 490
        }
      },
      "cell_type": "code",
      "source": [
        "# Executar o nosso modelo\n",
        "model.compile(loss='categorical_crossentropy',\n",
        "              optimizer=Adam(lr=0.0001, decay=1e-6),\n",
        "              metrics=['accuracy'])\n",
        "# Realiza o treinamento \t\t  \n",
        "model.fit(X_train / 255.0, to_categorical(Y_train),\n",
        "          batch_size=128,\n",
        "          shuffle=True,\n",
        "          epochs=10,\n",
        "          validation_data=(X_test / 255.0, to_categorical(Y_test)))\n",
        "# Realiza o teste\n",
        "scores = model.evaluate(X_test / 255.0, to_categorical(Y_test))\n",
        "# Printar valor de erro e accuracia obtida\n",
        "print('Loss: %.3f' % scores[0])\n",
        "print('Accuracy: %.3f' % scores[1])"
      ],
      "execution_count": 4,
      "outputs": [
        {
          "output_type": "stream",
          "text": [
            "WARNING:tensorflow:From /usr/local/lib/python3.6/dist-packages/tensorflow/python/ops/math_ops.py:3066: to_int32 (from tensorflow.python.ops.math_ops) is deprecated and will be removed in a future version.\n",
            "Instructions for updating:\n",
            "Use tf.cast instead.\n",
            "Train on 50000 samples, validate on 10000 samples\n",
            "Epoch 1/10\n",
            "50000/50000 [==============================] - 9s 178us/step - loss: 1.8709 - acc: 0.3251 - val_loss: 1.5727 - val_acc: 0.4512\n",
            "Epoch 2/10\n",
            "50000/50000 [==============================] - 7s 138us/step - loss: 1.5284 - acc: 0.4533 - val_loss: 1.4047 - val_acc: 0.5145\n",
            "Epoch 3/10\n",
            "50000/50000 [==============================] - 7s 139us/step - loss: 1.4079 - acc: 0.5029 - val_loss: 1.3336 - val_acc: 0.5357\n",
            "Epoch 4/10\n",
            "50000/50000 [==============================] - 7s 140us/step - loss: 1.3302 - acc: 0.5317 - val_loss: 1.2549 - val_acc: 0.5576\n",
            "Epoch 5/10\n",
            "50000/50000 [==============================] - 7s 140us/step - loss: 1.2758 - acc: 0.5520 - val_loss: 1.2206 - val_acc: 0.5708\n",
            "Epoch 6/10\n",
            "50000/50000 [==============================] - 7s 140us/step - loss: 1.2333 - acc: 0.5669 - val_loss: 1.1796 - val_acc: 0.5874\n",
            "Epoch 7/10\n",
            "50000/50000 [==============================] - 7s 138us/step - loss: 1.1960 - acc: 0.5813 - val_loss: 1.1465 - val_acc: 0.6017\n",
            "Epoch 8/10\n",
            "50000/50000 [==============================] - 7s 137us/step - loss: 1.1631 - acc: 0.5940 - val_loss: 1.1379 - val_acc: 0.6031\n",
            "Epoch 9/10\n",
            "50000/50000 [==============================] - 7s 139us/step - loss: 1.1363 - acc: 0.6035 - val_loss: 1.0951 - val_acc: 0.6197\n",
            "Epoch 10/10\n",
            "50000/50000 [==============================] - 7s 139us/step - loss: 1.1086 - acc: 0.6153 - val_loss: 1.0788 - val_acc: 0.6257\n",
            "10000/10000 [==============================] - 1s 106us/step\n",
            "Loss: 1.079\n",
            "Accuracy: 0.626\n"
          ],
          "name": "stdout"
        }
      ]
    },
    {
      "metadata": {
        "id": "H-0Nkt4F7bbs",
        "colab_type": "code",
        "outputId": "d9c67e31-267e-482a-e9ff-f18b617ab37c",
        "colab": {
          "base_uri": "https://localhost:8080/",
          "height": 34
        }
      },
      "cell_type": "code",
      "source": [
        "# Testar o modelo obtido\n",
        "response = requests.get('https://dl1.cbsistatic.com/i/r/2017/02/01/4094f803-44d1-47e0-a22f-6d48f65727b5/thumbnail/32x32/4188676421c43926bfcb5f3329ffacb6/fmimg586302198861076950.png')\n",
        "img = Image.open(BytesIO(response.content))\n",
        "img = np.expand_dims(img, axis=0)\n",
        "img = img[:,:,:,:3]\n",
        "\n",
        "print(model.predict(img))"
      ],
      "execution_count": 5,
      "outputs": [
        {
          "output_type": "stream",
          "text": [
            "[[1. 0. 0. 0. 0. 0. 0. 0. 0. 0.]]\n"
          ],
          "name": "stdout"
        }
      ]
    },
    {
      "metadata": {
        "id": "qX8OqX2pAgga",
        "colab_type": "code",
        "outputId": "46c2f19d-29a9-45a8-c4f7-e71d1de5f1e4",
        "colab": {
          "base_uri": "https://localhost:8080/",
          "height": 34
        }
      },
      "cell_type": "code",
      "source": [
        "# Testando com um objeto Carro 1\n",
        "response = requests.get('https://www.finderr.de/icon/steinacker-automobile.de-favicon.png')\n",
        "img = Image.open(BytesIO(response.content))\n",
        "img = np.expand_dims(img, axis=0)\n",
        "img = img[:,:,:,:3]\n",
        "\n",
        "print(model.predict(img))\n"
      ],
      "execution_count": 6,
      "outputs": [
        {
          "output_type": "stream",
          "text": [
            "[[0. 1. 0. 0. 0. 0. 0. 0. 0. 0.]]\n"
          ],
          "name": "stdout"
        }
      ]
    },
    {
      "metadata": {
        "id": "hPECyoh0B0Vg",
        "colab_type": "code",
        "outputId": "fa356fee-e479-4657-906b-5f132f87267c",
        "colab": {
          "base_uri": "https://localhost:8080/",
          "height": 34
        }
      },
      "cell_type": "code",
      "source": [
        "# Testando com um objeto Carro 2\n",
        "response = requests.get('https://dl1.cbsistatic.com/i/r/2017/02/01/ca33832c-72c3-4ada-8044-5f7380f30dcf/thumbnail/32x32/2296f3ab912760b96b3ae3b59328b2da/fmimg8676746949770611684.png')\n",
        "img = Image.open(BytesIO(response.content))\n",
        "img = np.expand_dims(img, axis=0)\n",
        "img = img[:,:,:,:3]\n",
        "print(model.predict(img))\n"
      ],
      "execution_count": 7,
      "outputs": [
        {
          "output_type": "stream",
          "text": [
            "[[0. 1. 0. 0. 0. 0. 0. 0. 0. 0.]]\n"
          ],
          "name": "stdout"
        }
      ]
    },
    {
      "metadata": {
        "id": "3rBn8k9xCIBo",
        "colab_type": "code",
        "outputId": "68f0ddaa-4875-47a7-e722-eff1c5bdbef8",
        "colab": {
          "base_uri": "https://localhost:8080/",
          "height": 34
        }
      },
      "cell_type": "code",
      "source": [
        "# Testando com um objeto Passaro 1\n",
        "response = requests.get('https://dl1.cbsistatic.com/i/r/2017/02/01/ad9af602-f66d-4eb6-891b-e42f90bb3b62/thumbnail/32x32/664c4f638e58cb033ea96a4978ca9b77/fmimg6566880612367031360.png')\n",
        "img = Image.open(BytesIO(response.content))\n",
        "img = np.expand_dims(img, axis=0)\n",
        "img = img[:,:,:,:3]\n",
        "print(model.predict(img))"
      ],
      "execution_count": 8,
      "outputs": [
        {
          "output_type": "stream",
          "text": [
            "[[0. 0. 1. 0. 0. 0. 0. 0. 0. 0.]]\n"
          ],
          "name": "stdout"
        }
      ]
    },
    {
      "metadata": {
        "id": "W1ik_q0bDv9p",
        "colab_type": "code",
        "outputId": "4762f461-87f8-423b-e1bc-6be73262fb63",
        "colab": {
          "base_uri": "https://localhost:8080/",
          "height": 50
        }
      },
      "cell_type": "code",
      "source": [
        "# Testando com um objeto Cachorro 1\n",
        "response = requests.get('http://www.icons101.com/icon_png/size_32/id_71981/dog.png')\n",
        "img = Image.open(BytesIO(response.content))\n",
        "img = np.expand_dims(img, axis=0)\n",
        "img = img[:,:,:,:3]\n",
        "print(model.predict(img))\n"
      ],
      "execution_count": 9,
      "outputs": [
        {
          "output_type": "stream",
          "text": [
            "[[0.0000000e+00 0.0000000e+00 0.0000000e+00 0.0000000e+00 0.0000000e+00\n",
            "  1.0000000e+00 0.0000000e+00 0.0000000e+00 2.7315852e-09 0.0000000e+00]]\n"
          ],
          "name": "stdout"
        }
      ]
    },
    {
      "metadata": {
        "id": "uUEVpls1EjsP",
        "colab_type": "code",
        "outputId": "5531d6b3-ddce-4e50-cb96-bc240281b9d3",
        "colab": {
          "base_uri": "https://localhost:8080/",
          "height": 34
        }
      },
      "cell_type": "code",
      "source": [
        "# Testando com um objeto Caminhão 1\n",
        "response = requests.get('https://dl1.cbsistatic.com/i/r/2017/02/01/7d981122-b060-42a2-bf6a-2f79ff0f1338/thumbnail/32x32/354f2635f4f597ad62cf9574264712e6/fmimg5476972265364039413.png')\n",
        "img = Image.open(BytesIO(response.content))\n",
        "img = np.expand_dims(img, axis=0)\n",
        "img = img[:,:,:,:3]\n",
        "print(model.predict(img))\n",
        "\n"
      ],
      "execution_count": 10,
      "outputs": [
        {
          "output_type": "stream",
          "text": [
            "[[0. 0. 0. 0. 0. 0. 0. 0. 0. 1.]]\n"
          ],
          "name": "stdout"
        }
      ]
    }
  ]
}